{
 "cells": [
  {
   "cell_type": "markdown",
   "id": "13cc5ae0",
   "metadata": {},
   "source": [
    "**Name** - Manu Mathew\n",
    "**StudentID** - 8990691"
   ]
  },
  {
   "cell_type": "markdown",
   "id": "27d08d63",
   "metadata": {},
   "source": [
    "**Objective** - The primary objective of the Lab is to build and compare image classification model that can accurately distinguish the images of cats and dogs. In this notebook, \n",
    "- We first prepare a manageable dataset of 5000 images where 2500 images are of dogs and 2500 images are of cats.\n",
    "- Then we perform the exploratory data analysis (EDA) to understand the dataset characteristics and identify data quality issues.\n",
    "- Train and evaluate two deep learning models:\n",
    "    - A custom-defined Convolutional Neural Network (CNN).\n",
    "    - A fine-tuned VGG16 model pre-trained on ImageNet.\n",
    "- Explore the relative performance of the models."
   ]
  },
  {
   "cell_type": "markdown",
   "id": "97906009",
   "metadata": {},
   "source": []
  }
 ],
 "metadata": {
  "language_info": {
   "name": "python"
  }
 },
 "nbformat": 4,
 "nbformat_minor": 5
}
